{
 "cells": [
  {
   "cell_type": "markdown",
   "metadata": {},
   "source": [
    "# Read/write VTK files (Unstructured grid with data)"
   ]
  },
  {
   "cell_type": "markdown",
   "metadata": {},
   "source": [
    "## Import modules"
   ]
  },
  {
   "cell_type": "code",
   "execution_count": null,
   "metadata": {
    "collapsed": false
   },
   "outputs": [],
   "source": [
    "import numpy as np\n",
    "import matplotlib.pyplot as plt\n",
    "import mpl_toolkits.mplot3d as m3d\n",
    "import vtk\n",
    "from vtk.util.numpy_support import vtk_to_numpy, numpy_to_vtk\n",
    "\n",
    "import redirc\n",
    "\n",
    "%matplotlib inline"
   ]
  },
  {
   "cell_type": "code",
   "execution_count": null,
   "metadata": {
    "collapsed": true
   },
   "outputs": [],
   "source": []
  },
  {
   "cell_type": "markdown",
   "metadata": {},
   "source": [
    "## Create 2-D triangular mesh\n",
    "\n",
    "In real case, the 2-D triangular mesh is unstructured"
   ]
  },
  {
   "cell_type": "code",
   "execution_count": null,
   "metadata": {
    "collapsed": true
   },
   "outputs": [],
   "source": [
    "def create_2d_mesh():\n",
    "    # Create points.\n",
    "    x2d,y2d = np.meshgrid([10,15,20], [5,10])\n",
    "    x2d = x2d.flatten()\n",
    "    y2d = y2d.flatten()\n",
    "    z1d = [0, 0.5, 1]\n",
    "\n",
    "    # Create triangles.\n",
    "    triangles = np.array(( (0,1,3), (1,4,3), (1,2,4), (2,5,4) ))\n",
    "    \n",
    "    return x2d,y2d,z1d,triangles\n",
    "\n",
    "x2d,y2d,z1d,triangles = create_2d_mesh()"
   ]
  },
  {
   "cell_type": "markdown",
   "metadata": {},
   "source": [
    "## Plot 2-D mesh"
   ]
  },
  {
   "cell_type": "code",
   "execution_count": null,
   "metadata": {
    "collapsed": false
   },
   "outputs": [],
   "source": [
    "def plot_2d_mesh(x2d,y2d,triangles):\n",
    "    ntri = len(triangles)\n",
    "\n",
    "    # Plot points.\n",
    "    plt.plot(x2d, y2d, 'ko')\n",
    "    for ipoint,(x,y) in enumerate(zip(x2d,y2d)):\n",
    "        plt.text(x+0.2,y+0.2,'%i'%ipoint)\n",
    "\n",
    "    # Plot triangles.\n",
    "    xtri = np.empty( (ntri) )\n",
    "    ytri = np.empty( (ntri) )\n",
    "    for itri,tri in enumerate(triangles):\n",
    "        xtri[itri] = sum(x2d[tri]) / 3.\n",
    "        ytri[itri] = sum(y2d[tri]) / 3.\n",
    "    plt.triplot(x2d, y2d, triangles)\n",
    "    for itri,(x,y) in enumerate(zip(xtri,ytri)):\n",
    "        plt.text(x,y,itri,color='red')\n",
    "\n",
    "    # Adjust plot.\n",
    "    plt.axis('scaled')\n",
    "    plt.xlim(9,21)\n",
    "    plt.ylim(4,11)\n",
    "    plt.grid()\n",
    "    \n",
    "plot_2d_mesh(x2d,y2d,triangles)"
   ]
  },
  {
   "cell_type": "markdown",
   "metadata": {},
   "source": [
    "## Plot 3-D mesh of 8 wedges"
   ]
  },
  {
   "cell_type": "code",
   "execution_count": null,
   "metadata": {
    "collapsed": false
   },
   "outputs": [],
   "source": [
    "def adjust(ax):\n",
    "    plt.xlim(9,21)\n",
    "    plt.ylim(4,11)\n",
    "    ax.set_zlim(0,1.)\n",
    "    \n",
    "def plot_triangles_in_plane(x2d, y2d, z, triangles, ax):\n",
    "    z2d = np.zeros( x2d.shape )\n",
    "    z2d[:] = z\n",
    "    ax.plot_trisurf(x2d, y2d, triangles, z2d, color='w', shade=False)\n",
    "\n",
    "def plot_wedge(xtrivert, ytrivert, z0, z1, color, ax):\n",
    "    # First plane triangle points.\n",
    "    A0 = (xtrivert[0], ytrivert[0], z0)\n",
    "    B0 = (xtrivert[1], ytrivert[1], z0)\n",
    "    C0 = (xtrivert[2], ytrivert[2], z0)\n",
    "    \n",
    "    # Second plane triangle points.\n",
    "    A1 = (xtrivert[0], ytrivert[0], z1)\n",
    "    B1 = (xtrivert[1], ytrivert[1], z1)\n",
    "    C1 = (xtrivert[2], ytrivert[2], z1)\n",
    "    \n",
    "    # Wedge faces.\n",
    "    bottom = (A0,B0,C0)\n",
    "    top = (A1,B1,C1)\n",
    "    side0 = (A0,B0,B1,A1)\n",
    "    side1 = (B0,C0,C1,B1)\n",
    "    side2 = (C0,A0,A1,C1)\n",
    "    faces = (bottom, top, side0, side1, side2)\n",
    "    \n",
    "    # Plot wedge.\n",
    "    wedge = m3d.art3d.Poly3DCollection(faces, alpha=0.3, color=color)\n",
    "    ax.add_collection3d(wedge)\n",
    "    \n",
    "def plot_3d_mesh(x2d,y2d,z1d,triangles):\n",
    "    fig = plt.figure(figsize=(16,4))\n",
    "\n",
    "    # Plot triangles in the 3 planes.\n",
    "    nrows,ncols,iplot = 1,3,1\n",
    "    ax = fig.add_subplot(nrows,ncols,iplot, projection='3d')\n",
    "    for z in z1d:\n",
    "        plot_triangles_in_plane(x2d, y2d, z, triangles, ax)\n",
    "    adjust(ax)\n",
    "    iplot += 1\n",
    "\n",
    "    # plot wedges\n",
    "    colors = ['blue', 'red', 'green', 'cyan']\n",
    "    for z0,z1 in (z1d[0:2], z1d[1:3]):\n",
    "        ax = fig.add_subplot(nrows,ncols,iplot, projection='3d')\n",
    "        for itri,color in enumerate(colors):\n",
    "            plot_wedge(x2d[triangles[itri]],\n",
    "                       y2d[triangles[itri]],\n",
    "                       z0, z1, color, ax)\n",
    "        adjust(ax)\n",
    "        iplot += 1\n",
    "\n",
    "plot_3d_mesh(x2d,y2d,z1d,triangles)"
   ]
  },
  {
   "cell_type": "markdown",
   "metadata": {},
   "source": [
    "## Create 3-D mesh"
   ]
  },
  {
   "cell_type": "code",
   "execution_count": null,
   "metadata": {
    "collapsed": true
   },
   "outputs": [],
   "source": [
    "def plane_to_box(data2d,z1d):\n",
    "    data3d = np.zeros( (len(z1d),len(data2d)) )\n",
    "    for iz in range(len(z1d)):\n",
    "        data3d[iz,:] = data2d\n",
    "    return data3d.flatten()\n",
    "\n",
    "def create_3d_mesh(x2d,y2d,z1d):\n",
    "    x3d = plane_to_box(x2d, z1d)\n",
    "    y3d = plane_to_box(y2d, z1d)\n",
    "\n",
    "    z3d = np.zeros( (len(z1d),len(x2d)) )\n",
    "    for ipoint in range(len(x2d)):\n",
    "        z3d[:,ipoint] = z1d\n",
    "    z3d = z3d.flatten()\n",
    "    \n",
    "    xyz3d = np.array( zip(x3d, y3d, z3d) )\n",
    "    \n",
    "    return x3d,y3d,z3d,xyz3d\n",
    "\n",
    "x3d,y3d,z3d,xyz3d = create_3d_mesh(x2d,y2d,z1d)"
   ]
  },
  {
   "cell_type": "markdown",
   "metadata": {},
   "source": [
    "## Plot 3-D mesh"
   ]
  },
  {
   "cell_type": "code",
   "execution_count": null,
   "metadata": {
    "collapsed": false
   },
   "outputs": [],
   "source": [
    "def plot_3d_mesh(x3d,y3d,z3d):\n",
    "    fig = plt.figure()\n",
    "    ax = fig.add_subplot(111, projection='3d')\n",
    "    ax.scatter(x3d, y3d, z3d, marker='o', color='b')\n",
    "    for i,(x,y,z) in enumerate(zip(x3d,y3d,z3d)):\n",
    "        ax.text(x,y,z, '%i' % i)\n",
    "    plt.show()\n",
    "    \n",
    "plot_3d_mesh(x3d,y3d,z3d)"
   ]
  },
  {
   "cell_type": "markdown",
   "metadata": {},
   "source": [
    "## Define data on 3-D wedge mesh"
   ]
  },
  {
   "cell_type": "code",
   "execution_count": null,
   "metadata": {
    "collapsed": false
   },
   "outputs": [],
   "source": [
    "def create_wedge_data(triangles, z1d):\n",
    "    nwedges = len(triangles) * len(z1d)\n",
    "    wedge_data = np.arange(nwedges)\n",
    "    return wedge_data\n",
    "    \n",
    "wedge_data = create_wedge_data(triangles, z1d)"
   ]
  },
  {
   "cell_type": "markdown",
   "metadata": {},
   "source": [
    "## Prepare data for VTK"
   ]
  },
  {
   "cell_type": "code",
   "execution_count": null,
   "metadata": {
    "collapsed": false
   },
   "outputs": [],
   "source": [
    "def create_cells(z1d,triangles):\n",
    "    wedge_nvert = 6\n",
    "    \n",
    "    # Create cells.\n",
    "    cells= []\n",
    "    n = len(x2d)\n",
    "    for iz in range(len(z1d)-1):\n",
    "        for v0,v1,v2 in triangles:\n",
    "            cells.append([wedge_nvert,\n",
    "                          v0+n*iz, v1+n*iz, v2+n*iz,\n",
    "                          v0+n*(iz+1) ,v1+n*(iz+1) ,v2+n*(iz+1)])\n",
    "    cells = np.array(cells).flatten()\n",
    "    \n",
    "    # Create cell locations.\n",
    "    cell_locations = np.arange(0, cells.size, wedge_nvert+1)\n",
    "    \n",
    "    # Create cell types.\n",
    "    ncells = len(cells) / (wedge_nvert+1)\n",
    "    cell_types = np.empty( (ncells,) , 'B')\n",
    "    cell_types[:] = vtk.VTK_WEDGE\n",
    "     \n",
    "    return cells, cell_locations, cell_types\n",
    "\n",
    "cells, cell_locations, cell_types = create_cells(z1d,triangles)"
   ]
  },
  {
   "cell_type": "markdown",
   "metadata": {},
   "source": [
    "## Write 3-D wedges mesh and data to file"
   ]
  },
  {
   "cell_type": "code",
   "execution_count": null,
   "metadata": {
    "collapsed": false
   },
   "outputs": [],
   "source": [
    "@redirc.print_stdout_stderr\n",
    "def write_vtk_file(filename, xyz3d, cell_types,\n",
    "                    cell_locations, cells, wedge_data):\n",
    "    \n",
    "    wedge_nvert = 6\n",
    "    \n",
    "    # Open file and create unstructed grid\n",
    "    writer = vtk.vtkUnstructuredGridWriter()\n",
    "    writer.SetFileName(filename)\n",
    "    grid = vtk.vtkUnstructuredGrid()\n",
    "\n",
    "    # Set point coordinates\n",
    "    vtk_points = vtk.vtkPoints()\n",
    "    vtk_points.SetData( numpy_to_vtk(xyz3d) )\n",
    "    grid.SetPoints(vtk_points)\n",
    "\n",
    "    # Create cell_types\n",
    "    vtk_cell_types = numpy_to_vtk(cell_types)\n",
    "\n",
    "    # Create cell_locations\n",
    "    vtk_cell_locations = numpy_to_vtk(cell_locations, deep=1,\n",
    "                                      array_type=vtk.VTK_ID_TYPE)\n",
    "\n",
    "    # Create cells\n",
    "    ncells = len(cells) / (wedge_nvert+1)\n",
    "    vtk_cells = vtk.vtkCellArray()\n",
    "    id_array = vtk.vtkIdTypeArray()\n",
    "    id_array.SetVoidArray(cells, len(cells), 1)\n",
    "    vtk_cells.SetCells(ncells, id_array)\n",
    "\n",
    "    grid.SetCells(vtk_cell_types, vtk_cell_locations, vtk_cells) \n",
    "\n",
    "    # Set cell data\n",
    "    vtk_wedge_data = numpy_to_vtk(wedge_data)\n",
    "    vtk_wedge_data.SetName(\"foo\")\n",
    "    vtk_cell_data = grid.GetCellData()\n",
    "    vtk_cell_data.AddArray(vtk_wedge_data)\n",
    "\n",
    "    # Write to file\n",
    "    writer.SetInput(grid)\n",
    "    writer.Write()\n",
    "    \n",
    "filename = \"example.vtk\"\n",
    "write_vtk_file(filename, xyz3d, cell_types,\n",
    "               cell_locations, cells, wedge_data)"
   ]
  },
  {
   "cell_type": "markdown",
   "metadata": {},
   "source": [
    "### Print file content"
   ]
  },
  {
   "cell_type": "code",
   "execution_count": null,
   "metadata": {
    "collapsed": false
   },
   "outputs": [],
   "source": [
    "print open(filename).read()"
   ]
  },
  {
   "cell_type": "markdown",
   "metadata": {},
   "source": [
    "## Read 3-D wedges mesh and data from file"
   ]
  },
  {
   "cell_type": "markdown",
   "metadata": {},
   "source": [
    "### Open file and read unstructured grid"
   ]
  },
  {
   "cell_type": "code",
   "execution_count": null,
   "metadata": {
    "collapsed": false
   },
   "outputs": [],
   "source": [
    "@redirc.print_stdout_stderr\n",
    "def read_vtk_file(filename):\n",
    "    # Open file and read unstructured grid.\n",
    "    reader = vtk.vtkUnstructuredGridReader()\n",
    "    reader.SetFileName(filename)\n",
    "    reader.Update()\n",
    "    grid = reader.GetOutput()\n",
    "    \n",
    "    # Read points.\n",
    "    vtk_points = grid.GetPoints()\n",
    "    xyz3d = vtk_to_numpy( vtk_points.GetData() )\n",
    "    \n",
    "    # Read cells.\n",
    "    cells = vtk_to_numpy( grid.GetCells().GetData() )\n",
    "    cell_locations = vtk_to_numpy( grid.GetCellLocationsArray() )\n",
    "    cell_types = vtk_to_numpy( grid.GetCellTypesArray() )\n",
    "    \n",
    "    return xyz3d, cells, cell_locations, cell_types\n",
    "\n",
    "filename = 'example.vtk'\n",
    "xyz3d_, cells_, cell_locations_, cell_types_ = read_vtk_file(filename)\n",
    "assert np.all(xyz3d_ == xyz3d)\n",
    "assert np.all(cells_ == cells)\n",
    "assert np.all(cell_locations_ == cell_locations)\n",
    "assert np.all(cell_types_ == cell_types)"
   ]
  },
  {
   "cell_type": "code",
   "execution_count": null,
   "metadata": {
    "collapsed": true
   },
   "outputs": [],
   "source": []
  }
 ],
 "metadata": {
  "kernelspec": {
   "display_name": "Python 2",
   "language": "python",
   "name": "python2"
  },
  "language_info": {
   "codemirror_mode": {
    "name": "ipython",
    "version": 2
   },
   "file_extension": ".py",
   "mimetype": "text/x-python",
   "name": "python",
   "nbconvert_exporter": "python",
   "pygments_lexer": "ipython2",
   "version": "2.7.9"
  }
 },
 "nbformat": 4,
 "nbformat_minor": 0
}
